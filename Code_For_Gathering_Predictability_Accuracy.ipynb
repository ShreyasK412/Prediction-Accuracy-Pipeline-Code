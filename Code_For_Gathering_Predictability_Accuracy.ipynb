{
  "cells": [
    {
      "cell_type": "code",
      "execution_count": 3,
      "metadata": {
        "colab": {
          "base_uri": "https://localhost:8080/"
        },
        "id": "GZBpUMTiC1J8",
        "outputId": "4b84ffa6-15c5-47ec-9122-c33c50cd62d2"
      },
      "outputs": [
        {
          "name": "stdout",
          "output_type": "stream",
          "text": [
            "Drive already mounted at /content/drive; to attempt to forcibly remount, call drive.mount(\"/content/drive\", force_remount=True).\n"
          ]
        }
      ],
      "source": [
        "import pandas as pd\n",
        "import os\n",
        "\n",
        "# Step 1: Mount Google Drive\n",
        "from google.colab import drive\n",
        "drive.mount('/content/drive')\n",
        "\n",
        "# Step 2: Read all CSVs from the LSTMPredictions folder\n",
        "folder_path = '/content/drive/My Drive/FixedLSTMPredictions'\n",
        "all_files = [os.path.join(folder_path, f) for f in os.listdir(folder_path) if f.endswith('.csv')]\n",
        "\n",
        "df_list = []\n",
        "\n",
        "for file in all_files:\n",
        "    df = pd.read_csv(file)\n",
        "    df_list.append(df)\n",
        "\n",
        "# Combine all dataframes into a single dataframe\n",
        "all_data = pd.concat(df_list, axis=0, ignore_index=True)\n",
        "\n",
        "# Step 3: Compute the proportion, count, and correct count for each seg_id\n",
        "result_list = []\n",
        "\n",
        "grouped = all_data.groupby(['speaker_id', 'seg_id'])\n",
        "for (speaker_id, seg_id), group in grouped:\n",
        "    total = len(group)\n",
        "    correct = len(group[group['predicted_cluster'] == group['actual_cluster']])\n",
        "    proportion_correct = correct / total\n",
        "    result_list.append([speaker_id, seg_id, proportion_correct, total, correct])\n",
        "\n",
        "result_df = pd.DataFrame(result_list, columns=['speaker_id', 'seg_id', 'proportion_correct', 'count', 'correct_count'])\n",
        "\n",
        "# Step 4: Write the results to a new CSV\n",
        "output_path = '/content/drive/My Drive/FixedLSTMPredictions/ProportionResults.csv'\n",
        "result_df.to_csv(output_path, index=False)\n"
      ]
    }
  ],
  "metadata": {
    "accelerator": "TPU",
    "colab": {
      "machine_shape": "hm",
      "provenance": []
    },
    "kernelspec": {
      "display_name": "Python 3.11.2 64-bit",
      "language": "python",
      "name": "python3"
    },
    "language_info": {
      "name": "python",
      "version": "3.11.2"
    },
    "vscode": {
      "interpreter": {
        "hash": "aee8b7b246df8f9039afb4144a1f6fd8d2ca17a180786b69acc140d282b71a49"
      }
    }
  },
  "nbformat": 4,
  "nbformat_minor": 0
}
